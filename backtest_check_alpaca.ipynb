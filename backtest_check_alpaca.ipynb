{
 "cells": [
  {
   "cell_type": "code",
   "execution_count": 1,
   "metadata": {},
   "outputs": [],
   "source": [
    "# %autoreload 1\n",
    "import sys, getopt\n",
    "import matplotlib\n",
    "import matplotlib.pyplot as plt\n",
    "import numpy as np\n",
    "import datetime as dt\n",
    "from random import *\n",
    "import matplotlib.animation as animation\n",
    "from decimal import *\n",
    "\n",
    "from botchart import BotChart\n",
    "from botstrategy import BotStrategy\n",
    "import os\n"
   ]
  },
  {
   "cell_type": "code",
   "execution_count": 2,
   "metadata": {},
   "outputs": [],
   "source": [
    "############### Delete old files\n",
    "# os.remove(\"./Data/stockPriceRecord.txt\")\n",
    "# os.remove(\"./Data/moneyRecord.txt\")\n",
    "# os.remove(\"./Data/tradeRecord.txt\")\n",
    "\n",
    "backtest = True\n",
    "\n",
    "period = 60 # does not matter for backtest as period \n",
    "exchange = \"alpaca\"\n",
    "orderSymbol = 'MSFT'\n",
    "if exchange == 'binance':\n",
    "    kline_interval = \"1Min\"  # make kline time same as ping interval\n",
    "elif exchange =='alpaca':\n",
    "    kline_interval = '1Min'\n",
    "\n"
   ]
  },
  {
   "cell_type": "code",
   "execution_count": 3,
   "metadata": {},
   "outputs": [],
   "source": [
    "chart = BotChart(exchange =exchange, pair=orderSymbol, period=period, kline_interval=kline_interval, \n",
    "    startTime=1516064800, endTime=1516164800, backtest=backtest)"
   ]
  },
  {
   "cell_type": "code",
   "execution_count": 4,
   "metadata": {},
   "outputs": [],
   "source": [
    "strategy = BotStrategy(chart.client, exchange, orderSymbol, backtest=backtest, mockLive = False)  "
   ]
  },
  {
   "cell_type": "code",
   "execution_count": 5,
   "metadata": {},
   "outputs": [
    {
     "name": "stdout",
     "output_type": "stream",
     "text": [
      "Trade opened\n",
      "Backtest: buy order is executed\n",
      "stoploss Hit\n",
      "Backtest: sell order is executed\n",
      "Trade closed\n",
      "Trade opened\n",
      "Backtest: buy order is executed\n",
      "stoploss Hit\n",
      "Backtest: sell order is executed\n",
      "Trade closed\n",
      "Trade opened\n",
      "Backtest: buy order is executed\n",
      "profitTaking Hit\n",
      "Backtest: sell order is executed\n",
      "Trade closed\n",
      "Trade opened\n",
      "Backtest: buy order is executed\n",
      "profitTaking Hit\n",
      "Backtest: sell order is executed\n",
      "Trade closed\n"
     ]
    }
   ],
   "source": [
    "for candlestick in chart.getPoints():  # evaluating strategy with the chandle sticks\n",
    "    strategy.tick(candlestick)"
   ]
  },
  {
   "cell_type": "code",
   "execution_count": 6,
   "metadata": {},
   "outputs": [],
   "source": [
    "# Closing logging File\n",
    "strategy.stockPriceRecord.close()\n",
    "strategy.moneyRecord.close()\n",
    "strategy.tradeRecord.close()\n"
   ]
  },
  {
   "cell_type": "code",
   "execution_count": null,
   "metadata": {},
   "outputs": [],
   "source": []
  },
  {
   "cell_type": "code",
   "execution_count": null,
   "metadata": {},
   "outputs": [],
   "source": [
    "a[0].startTime.timestamp()"
   ]
  },
  {
   "cell_type": "code",
   "execution_count": null,
   "metadata": {},
   "outputs": [],
   "source": [
    "import datetime as dt"
   ]
  },
  {
   "cell_type": "code",
   "execution_count": null,
   "metadata": {},
   "outputs": [],
   "source": [
    "dt.datetime.fromtimestamp(a[0].startTime)"
   ]
  },
  {
   "cell_type": "code",
   "execution_count": null,
   "metadata": {},
   "outputs": [],
   "source": [
    "datetime_object = dt.datetime.strptime('Jun 1 2005  1:33PM', '%b %d %Y %I:%M%p')"
   ]
  },
  {
   "cell_type": "code",
   "execution_count": null,
   "metadata": {},
   "outputs": [],
   "source": [
    "datetime_object"
   ]
  },
  {
   "cell_type": "code",
   "execution_count": null,
   "metadata": {},
   "outputs": [],
   "source": [
    "from datetime import datetime\n",
    "from calendar import timegm\n",
    "tm = '2021-06-16 14:51:00 -0400' #'1970-01-01 06:00:00 +0500'\n",
    "fmt = '%Y-%m-%d %H:%M:%S %z'\n",
    "timegm(datetime.strptime(tm, fmt).utctimetuple())\n",
    "\n",
    "# '2021-06-16 14:51:00 -0400'\n"
   ]
  },
  {
   "cell_type": "code",
   "execution_count": null,
   "metadata": {},
   "outputs": [],
   "source": []
  }
 ],
 "metadata": {
  "kernelspec": {
   "display_name": "HiFi",
   "language": "python",
   "name": "fian_exp"
  },
  "language_info": {
   "codemirror_mode": {
    "name": "ipython",
    "version": 3
   },
   "file_extension": ".py",
   "mimetype": "text/x-python",
   "name": "python",
   "nbconvert_exporter": "python",
   "pygments_lexer": "ipython3",
   "version": "3.9.5"
  }
 },
 "nbformat": 4,
 "nbformat_minor": 4
}
